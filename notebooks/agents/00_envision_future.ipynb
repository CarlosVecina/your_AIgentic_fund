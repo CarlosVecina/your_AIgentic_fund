{
 "cells": [
  {
   "cell_type": "code",
   "execution_count": 1,
   "metadata": {},
   "outputs": [],
   "source": [
    "from dystopic_investment_aigents.agents.base_agents.agent_base import Mood, Percentage, Personality\n",
    "from dystopic_investment_aigents.agents.impl_agents.socratic_future import (\n",
    "    SocraticFutureAgent,\n",
    ")\n",
    "from dystopic_investment_aigents.utils.model_client_utils import OpenAIClientTraceable\n",
    "\n",
    "master = SocraticFutureAgent(\n",
    "    personality=Personality(\n",
    "        mood=Mood.DYSTOPIC,\n",
    "        risk_tolerance=Percentage(0.5),\n",
    "    ),\n",
    "    seniority=OpenAIClientTraceable(),\n",
    "    seniority_args={\n",
    "        \"model\": \"gpt-4o-mini\",\n",
    "        \"temperature\": 0.5,\n",
    "    },\n",
    ")"
   ]
  },
  {
   "cell_type": "code",
   "execution_count": 2,
   "metadata": {},
   "outputs": [
    {
     "name": "stdout",
     "output_type": "stream",
     "text": [
      "The future of the telecom industry is poised for significant transformation driven by advancements in 5G and beyond, enabling faster, more reliable connectivity that supports the Internet of Things (IoT), smart cities, and enhanced mobile experiences. Increased focus on sustainability will lead to greener infrastructure and energy-efficient technologies. Additionally, the rise of edge computing will decentralize data processing, improving response times and reducing latency. As competition intensifies, telecom companies will likely expand their services beyond connectivity, integrating digital solutions like cloud services, cybersecurity, and AI-driven applications to meet evolving customer needs.\n"
     ]
    }
   ],
   "source": [
    "response = master.discuss(\"Hello, how you envision the future of telcom industry in few sentences?\")\n",
    "print(response)\n"
   ]
  },
  {
   "cell_type": "code",
   "execution_count": 3,
   "metadata": {},
   "outputs": [
    {
     "data": {
      "text/plain": [
       "ConversationMemory(messages=[Message(content='Hello, how you envision the future of telcom industry in few sentences?', role='user', timestamp=datetime.datetime(2025, 2, 3, 12, 11, 39, 199124)), Message(content='The future of the telecom industry is poised for significant transformation driven by advancements in 5G and beyond, enabling faster, more reliable connectivity that supports the Internet of Things (IoT), smart cities, and enhanced mobile experiences. Increased focus on sustainability will lead to greener infrastructure and energy-efficient technologies. Additionally, the rise of edge computing will decentralize data processing, improving response times and reducing latency. As competition intensifies, telecom companies will likely expand their services beyond connectivity, integrating digital solutions like cloud services, cybersecurity, and AI-driven applications to meet evolving customer needs.', role='assistant', timestamp=datetime.datetime(2025, 2, 3, 12, 11, 39, 199124))], max_messages=100)"
      ]
     },
     "execution_count": 3,
     "metadata": {},
     "output_type": "execute_result"
    }
   ],
   "source": [
    "master.memory"
   ]
  }
 ],
 "metadata": {
  "kernelspec": {
   "display_name": "dystopic-investment-aigents-nFobpI-k-py3.11",
   "language": "python",
   "name": "python3"
  },
  "language_info": {
   "codemirror_mode": {
    "name": "ipython",
    "version": 3
   },
   "file_extension": ".py",
   "mimetype": "text/x-python",
   "name": "python",
   "nbconvert_exporter": "python",
   "pygments_lexer": "ipython3",
   "version": "3.11.0"
  }
 },
 "nbformat": 4,
 "nbformat_minor": 2
}
