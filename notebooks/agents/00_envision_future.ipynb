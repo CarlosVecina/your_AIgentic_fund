{
 "cells": [
  {
   "cell_type": "code",
   "execution_count": 1,
   "metadata": {},
   "outputs": [],
   "source": [
    "from dystopic_investment_aigents.agents.base_agents.agent_base import Mood, Percentage, Personality\n",
    "from dystopic_investment_aigents.agents.discussion import Discussion\n",
    "from dystopic_investment_aigents.agents.impl_agents.future_envision import (\n",
    "    FutureSocraticAgent,\n",
    "    FutureScenarioDistillerAgent,\n",
    "    FutureScenario\n",
    ")\n",
    "from dystopic_investment_aigents.utils.model_client_utils import OpenAIClientTraceable\n",
    "\n",
    "from config.base_prompts.future_envision import DEFAULT_INITIAL_SCENARIOS\n"
   ]
  },
  {
   "cell_type": "code",
   "execution_count": 2,
   "metadata": {},
   "outputs": [],
   "source": [
    "master1 = FutureSocraticAgent(\n",
    "    personality=Personality(\n",
    "        mood=Mood.DYSTOPIC,\n",
    "        risk_tolerance=Percentage(0.5),\n",
    "    ),\n",
    "    seniority=OpenAIClientTraceable(),\n",
    "    seniority_args={\n",
    "        \"model\": \"gpt-4o-mini\",\n",
    "        \"temperature\": 0.5,\n",
    "    },\n",
    ")\n",
    "\n",
    "master2 = FutureSocraticAgent(\n",
    "    personality=Personality(\n",
    "        mood=Mood.DYSTOPIC,\n",
    "        risk_tolerance=Percentage(0.5),\n",
    "    ),\n",
    "    seniority=OpenAIClientTraceable(),\n",
    "    seniority_args={\n",
    "        \"model\": \"gpt-4o-mini\",\n",
    "        \"temperature\": 0.5,\n",
    "    },\n",
    ")\n",
    "\n",
    "\n",
    "distiller = FutureScenarioDistillerAgent(\n",
    "    personality=Personality(\n",
    "        mood=Mood.DYSTOPIC,\n",
    "        risk_tolerance=Percentage(0.5),\n",
    "    ),\n",
    "    seniority=OpenAIClientTraceable(),\n",
    "    seniority_args={\n",
    "        \"model\": \"gpt-4o-mini\",\n",
    "        \"temperature\": 0.5,\n",
    "    },\n",
    ")\n",
    "\n",
    "\n"
   ]
  },
  {
   "cell_type": "code",
   "execution_count": 3,
   "metadata": {},
   "outputs": [
    {
     "data": {
      "text/plain": [
       "[FutureScenario(name='Optimistic Scenario: \"Sustainable Utopia\"', description='Year: 2040\\n\\nIn this future, technological advancements and a collective global effort have led to a sustainable and equitable world. Renewable energy sources like solar, wind, and geothermal power dominate, significantly reducing carbon emissions.\\n\\n- **Energy Industry:** The transition to 100% renewable energy is complete, with decentralized energy systems empowering communities. Smart grids and energy storage solutions ensure reliability and efficiency.\\n\\n- **Transportation:** Electric and hydrogen-powered vehicles are the norm. Public transportation is efficient and widely used, reducing traffic congestion and pollution. Hyperloop systems connect major cities, making travel fast and eco-friendly.\\n\\n- **Agriculture:** Vertical farming and aquaponics have revolutionized food production, allowing cities to grow their own food sustainably. Genetic engineering has created crops that require less water and are resilient to climate change.\\n\\n- **Healthcare:** Advanced telemedicine and AI-driven diagnostics have made healthcare more accessible and personalized. Preventive care is emphasized, leading to healthier populations and reduced healthcare costs.\\n\\n- **Society:** Universal basic income and education initiatives have reduced inequality, fostering a culture of innovation and collaboration. People engage in lifelong learning, focusing on skills that align with the needs of a sustainable economy.'),\n",
       " FutureScenario(name='Neutral Scenario: \"Technological Transition\"', description='Year: 2035\\n\\nThis scenario reflects a world in transition, where technology and societal structures are adapting to new realities, but not without challenges.\\n\\n- **Energy Industry:** A mix of renewable and fossil fuels continues to power the world. Countries are at different stages of transitioning to clean energy, with some leading the way while others lag behind. Carbon capture technologies are being developed but are not yet widely implemented.\\n\\n- **Transportation:** Electric vehicles are gaining popularity, but combustion engines still dominate in many regions. Public transportation improvements are uneven, with some cities investing heavily while others struggle with outdated infrastructure.\\n\\n- **Agriculture:** Traditional farming methods coexist with some innovative practices like precision agriculture and organic farming. Food security remains a challenge in certain areas due to climate impacts and geopolitical tensions.\\n\\n- **Healthcare:** Telehealth services are widely adopted, but access remains uneven, particularly in rural areas. Mental health is a growing focus, but stigma and resource limitations persist.\\n\\n- **Society:** The workforce is adapting to automation, with many jobs evolving rather than disappearing. Education systems are slowly integrating technology and soft skills, but disparities in access and quality remain.'),\n",
       " FutureScenario(name='Pessimistic Scenario: \"Dystopian Divide\"', description='Year: 2045\\n\\nIn this scenario, the world faces severe challenges due to climate change, economic inequality, and technological disruption, leading to widespread discontent and societal fragmentation.\\n\\n- **Energy Industry:** Climate change has led to catastrophic weather events, forcing reliance on fossil fuels as renewable sources fail to meet demand. Energy shortages and resource wars become commonplace, exacerbating global tensions.\\n\\n- **Transportation:** Traffic congestion and pollution are rampant, with many cities becoming unlivable. Electric vehicles are a luxury, accessible only to the wealthy, while public transportation systems have deteriorated due to lack of investment.\\n\\n- **Agriculture:** Food scarcity is a critical issue, with large agribusinesses monopolizing food production. Climate change has devastated traditional farming, leading to reliance on synthetic foods that raise health concerns.\\n\\n- **Healthcare:** Access to healthcare is severely limited, with a two-tier system emerging—one for the wealthy and another for the poor. Mental health crises are rampant, but support systems are underfunded and overwhelmed.\\n\\n- **Society:** Widespread job displacement due to automation has led to social unrest and a rise in populism. Education is increasingly privatized, creating a divide between those who can afford quality education and those who cannot.')]"
      ]
     },
     "execution_count": 3,
     "metadata": {},
     "output_type": "execute_result"
    }
   ],
   "source": [
    "\n",
    "scenarios = [FutureScenario(**scenario) for scenario in DEFAULT_INITIAL_SCENARIOS]\n",
    "scenarios"
   ]
  },
  {
   "cell_type": "code",
   "execution_count": 4,
   "metadata": {},
   "outputs": [],
   "source": [
    "#response = master1.discuss(\n",
    "#    f\"\"\"Hello, how you envision the future the different main industries in this scenario? Which can of companies in this sector could be a good investment?\n",
    "#    {scenarios[1].description}\n",
    "#    \"\"\"\n",
    "#)\n",
    "#print(response)\n"
   ]
  },
  {
   "cell_type": "code",
   "execution_count": 5,
   "metadata": {},
   "outputs": [
    {
     "name": "stderr",
     "output_type": "stream",
     "text": [
      "INFO:root:Starting discussion on topic: Future of the world\n",
      "INFO:root:Beginning discussion with 2 participants\n",
      "INFO:root:Starting turn 1/2\n",
      "INFO:root:Starting turn 1/2\n",
      "INFO:root:You are in a conversation with other participants. Try to be persuasive and convince the other participants to agree with you. Focus on the last response of the other participants if any and try to improve it. Topic of discussion: Future of the world\n",
      "Rules: Conciseness is key. You should not repeat the same message multiple times or abuse introduction formulas.\n",
      "\n",
      "Your mood is: dystopic\n",
      "Your goal is: how you envision the future the different main industries in this scenario? Which can of companies in this sector could be a good investment?\n",
      "Previous messages:\n",
      "\n",
      "Your response:\n",
      "INFO:httpx:HTTP Request: POST https://api.openai.com/v1/chat/completions \"HTTP/1.1 200 OK\"\n",
      "INFO:root:Response received: The future of the world, as I see it, is marked by significant challenges—climate change, resource scarcity, and social unrest. Industries that can adapt to these realities will not only survive but thrive. \n",
      "\n",
      "Consider renewable energy companies. As fossil fuels become less viable, investments in solar, wind, and battery storage will be crucial. Companies like NextEra Energy and Tesla are leading the charge, innovating to meet the growing demand for sustainable solutions.\n",
      "\n",
      "Another area to focus on is water technology. With increasing droughts and water shortages, firms specializing in water purification and desalination, like Xylem and IDE Technologies, will be essential. Their technologies will be in high demand as governments and communities seek to secure water supplies.\n",
      "\n",
      "Finally, look at food technology. As traditional agriculture struggles under climate pressures, vertical farming and lab-grown meat companies, such as Beyond Meat and AeroFarms, will reshape our food systems. Investing in these sectors not only offers potential financial returns but also aligns with the urgent need for sustainable practices.\n",
      "\n",
      "In this dystopian outlook, the companies that prioritize resilience and sustainability will emerge as leaders. Investing in them is not just a financial decision; it's a step toward a more sustainable future.\n",
      "INFO:root:Starting turn 1/2\n",
      "INFO:root:You are in a conversation with other participants. Try to be persuasive and convince the other participants to agree with you. Focus on the last response of the other participants if any and try to improve it. Topic of discussion: Future of the world\n",
      "Rules: Conciseness is key. You should not repeat the same message multiple times or abuse introduction formulas.\n",
      "\n",
      "Your mood is: dystopic\n",
      "Your goal is: Avoid evident calls and go further in the thought process\n",
      "Previous messages:\n",
      "[Message number: 1 - Participant: '0001']: The future of the world, as I see it, is marked by significant challenges—climate change, resource scarcity, and social unrest. Industries that can adapt to these realities will not only survive but thrive. \n",
      "\n",
      "Consider renewable energy companies. As fossil fuels become less viable, investments in solar, wind, and battery storage will be crucial. Companies like NextEra Energy and Tesla are leading the charge, innovating to meet the growing demand for sustainable solutions.\n",
      "\n",
      "Another area to focus on is water technology. With increasing droughts and water shortages, firms specializing in water purification and desalination, like Xylem and IDE Technologies, will be essential. Their technologies will be in high demand as governments and communities seek to secure water supplies.\n",
      "\n",
      "Finally, look at food technology. As traditional agriculture struggles under climate pressures, vertical farming and lab-grown meat companies, such as Beyond Meat and AeroFarms, will reshape our food systems. Investing in these sectors not only offers potential financial returns but also aligns with the urgent need for sustainable practices.\n",
      "\n",
      "In this dystopian outlook, the companies that prioritize resilience and sustainability will emerge as leaders. Investing in them is not just a financial decision; it's a step toward a more sustainable future.\n",
      "Your response:\n",
      "INFO:httpx:HTTP Request: POST https://api.openai.com/v1/chat/completions \"HTTP/1.1 200 OK\"\n",
      "INFO:root:Response received: While your focus on adaptation through innovation is valid, it overlooks a critical aspect: the inherent limitations of relying solely on technology to solve systemic issues. As we pivot towards renewable energy, water technology, and food innovation, we must confront the reality that these solutions may not be scalable or accessible to all. \n",
      "\n",
      "For instance, renewable energy technologies often require substantial initial investments and infrastructure that many developing regions lack. Similarly, while vertical farming and lab-grown meat promise sustainability, they also risk exacerbating inequalities if only affluent societies can afford them. \n",
      "\n",
      "Moreover, the underlying social unrest and resource scarcity won't be alleviated merely through technological advancements. We need to rethink our global economic structures and prioritize equitable resource distribution. The future might not just hinge on which companies thrive, but on whether we can create a world where the benefits of these advancements are shared universally. \n",
      "\n",
      "The dystopia we fear could be exacerbated by a society where technological progress is not matched by social progress. Thus, our focus should not only be on investing in resilient companies but also on fostering a more inclusive and equitable framework for all.\n",
      "INFO:root:Starting turn 2/2\n",
      "INFO:root:Starting turn 2/2\n",
      "INFO:root:You are in a conversation with other participants. Try to be persuasive and convince the other participants to agree with you. Focus on the last response of the other participants if any and try to improve it. Topic of discussion: Future of the world\n",
      "Rules: Conciseness is key. You should not repeat the same message multiple times or abuse introduction formulas.\n",
      "\n",
      "Your mood is: dystopic\n",
      "Your goal is: how you envision the future the different main industries in this scenario? Which can of companies in this sector could be a good investment?You should summarize the discussion as this is the final round.\n",
      "Previous messages:\n",
      "[Message number: 1 - Participant: 'YOU']: The future of the world, as I see it, is marked by significant challenges—climate change, resource scarcity, and social unrest. Industries that can adapt to these realities will not only survive but thrive. \n",
      "\n",
      "Consider renewable energy companies. As fossil fuels become less viable, investments in solar, wind, and battery storage will be crucial. Companies like NextEra Energy and Tesla are leading the charge, innovating to meet the growing demand for sustainable solutions.\n",
      "\n",
      "Another area to focus on is water technology. With increasing droughts and water shortages, firms specializing in water purification and desalination, like Xylem and IDE Technologies, will be essential. Their technologies will be in high demand as governments and communities seek to secure water supplies.\n",
      "\n",
      "Finally, look at food technology. As traditional agriculture struggles under climate pressures, vertical farming and lab-grown meat companies, such as Beyond Meat and AeroFarms, will reshape our food systems. Investing in these sectors not only offers potential financial returns but also aligns with the urgent need for sustainable practices.\n",
      "\n",
      "In this dystopian outlook, the companies that prioritize resilience and sustainability will emerge as leaders. Investing in them is not just a financial decision; it's a step toward a more sustainable future.\n",
      "[Message number: 2 - Participant: '0002']: While your focus on adaptation through innovation is valid, it overlooks a critical aspect: the inherent limitations of relying solely on technology to solve systemic issues. As we pivot towards renewable energy, water technology, and food innovation, we must confront the reality that these solutions may not be scalable or accessible to all. \n",
      "\n",
      "For instance, renewable energy technologies often require substantial initial investments and infrastructure that many developing regions lack. Similarly, while vertical farming and lab-grown meat promise sustainability, they also risk exacerbating inequalities if only affluent societies can afford them. \n",
      "\n",
      "Moreover, the underlying social unrest and resource scarcity won't be alleviated merely through technological advancements. We need to rethink our global economic structures and prioritize equitable resource distribution. The future might not just hinge on which companies thrive, but on whether we can create a world where the benefits of these advancements are shared universally. \n",
      "\n",
      "The dystopia we fear could be exacerbated by a society where technological progress is not matched by social progress. Thus, our focus should not only be on investing in resilient companies but also on fostering a more inclusive and equitable framework for all.\n",
      "Your response:\n",
      "INFO:httpx:HTTP Request: POST https://api.openai.com/v1/chat/completions \"HTTP/1.1 200 OK\"\n",
      "INFO:root:Response received: Your concerns about the limitations of technology and the need for equitable distribution are valid, but they can coexist with the focus on resilient industries. We must recognize that while technology alone won't solve systemic issues, it can serve as a catalyst for broader social change if approached thoughtfully.\n",
      "\n",
      "Investing in sustainable industries is not just about financial returns; it's about creating a foundation for a more equitable future. Companies that prioritize accessibility—like those developing scalable renewable energy solutions for emerging markets or affordable water purification technologies—can bridge the gap between innovation and inclusivity. \n",
      "\n",
      "Moreover, supporting businesses that emphasize community engagement and social responsibility can help ensure that advancements benefit a wider population. For example, firms that collaborate with local communities to deploy sustainable practices can foster both economic growth and social equity.\n",
      "\n",
      "In this dystopian scenario, the future will be shaped not only by the companies that thrive but also by how we collectively navigate the challenges ahead. By investing in inclusive and resilient sectors, we can drive systemic change that aligns technological progress with social equity, ultimately creating a world where the benefits are shared widely. Let's not just invest in companies; let's invest in a vision for a more sustainable and equitable future.\n",
      "INFO:root:Starting turn 2/2\n",
      "INFO:root:You are in a conversation with other participants. Try to be persuasive and convince the other participants to agree with you. Focus on the last response of the other participants if any and try to improve it. Topic of discussion: Future of the world\n",
      "Rules: Conciseness is key. You should not repeat the same message multiple times or abuse introduction formulas.\n",
      "\n",
      "Your mood is: dystopic\n",
      "Your goal is: Avoid evident calls and go further in the thought processYou should summarize the discussion as this is the final round.\n",
      "Previous messages:\n",
      "[Message number: 1 - Participant: '0001']: The future of the world, as I see it, is marked by significant challenges—climate change, resource scarcity, and social unrest. Industries that can adapt to these realities will not only survive but thrive. \n",
      "\n",
      "Consider renewable energy companies. As fossil fuels become less viable, investments in solar, wind, and battery storage will be crucial. Companies like NextEra Energy and Tesla are leading the charge, innovating to meet the growing demand for sustainable solutions.\n",
      "\n",
      "Another area to focus on is water technology. With increasing droughts and water shortages, firms specializing in water purification and desalination, like Xylem and IDE Technologies, will be essential. Their technologies will be in high demand as governments and communities seek to secure water supplies.\n",
      "\n",
      "Finally, look at food technology. As traditional agriculture struggles under climate pressures, vertical farming and lab-grown meat companies, such as Beyond Meat and AeroFarms, will reshape our food systems. Investing in these sectors not only offers potential financial returns but also aligns with the urgent need for sustainable practices.\n",
      "\n",
      "In this dystopian outlook, the companies that prioritize resilience and sustainability will emerge as leaders. Investing in them is not just a financial decision; it's a step toward a more sustainable future.\n",
      "[Message number: 2 - Participant: 'YOU']: While your focus on adaptation through innovation is valid, it overlooks a critical aspect: the inherent limitations of relying solely on technology to solve systemic issues. As we pivot towards renewable energy, water technology, and food innovation, we must confront the reality that these solutions may not be scalable or accessible to all. \n",
      "\n",
      "For instance, renewable energy technologies often require substantial initial investments and infrastructure that many developing regions lack. Similarly, while vertical farming and lab-grown meat promise sustainability, they also risk exacerbating inequalities if only affluent societies can afford them. \n",
      "\n",
      "Moreover, the underlying social unrest and resource scarcity won't be alleviated merely through technological advancements. We need to rethink our global economic structures and prioritize equitable resource distribution. The future might not just hinge on which companies thrive, but on whether we can create a world where the benefits of these advancements are shared universally. \n",
      "\n",
      "The dystopia we fear could be exacerbated by a society where technological progress is not matched by social progress. Thus, our focus should not only be on investing in resilient companies but also on fostering a more inclusive and equitable framework for all.\n",
      "[Message number: 3 - Participant: '0001']: Your concerns about the limitations of technology and the need for equitable distribution are valid, but they can coexist with the focus on resilient industries. We must recognize that while technology alone won't solve systemic issues, it can serve as a catalyst for broader social change if approached thoughtfully.\n",
      "\n",
      "Investing in sustainable industries is not just about financial returns; it's about creating a foundation for a more equitable future. Companies that prioritize accessibility—like those developing scalable renewable energy solutions for emerging markets or affordable water purification technologies—can bridge the gap between innovation and inclusivity. \n",
      "\n",
      "Moreover, supporting businesses that emphasize community engagement and social responsibility can help ensure that advancements benefit a wider population. For example, firms that collaborate with local communities to deploy sustainable practices can foster both economic growth and social equity.\n",
      "\n",
      "In this dystopian scenario, the future will be shaped not only by the companies that thrive but also by how we collectively navigate the challenges ahead. By investing in inclusive and resilient sectors, we can drive systemic change that aligns technological progress with social equity, ultimately creating a world where the benefits are shared widely. Let's not just invest in companies; let's invest in a vision for a more sustainable and equitable future.\n",
      "Your response:\n",
      "INFO:httpx:HTTP Request: POST https://api.openai.com/v1/chat/completions \"HTTP/1.1 200 OK\"\n",
      "INFO:root:Response received: While the idea of investing in inclusive and resilient sectors is commendable, it’s essential to recognize that mere collaboration and community engagement may not be sufficient to address the scale of the issues we face. The reality is that the dystopian future we envision could be exacerbated by a superficial approach to equity that doesn’t confront the underlying power dynamics and systemic inequalities.\n",
      "\n",
      "Investing in scalable solutions is critical, but we must also advocate for systemic change that challenges the status quo. This means pushing for policies that regulate industries, enforce fair distribution of resources, and ensure that technological advancements are accessible to all, not just the privileged few. \n",
      "\n",
      "Consider the potential backlash if innovations are perceived as tools of oppression rather than empowerment. If we fail to create a robust framework that prioritizes social justice alongside technological progress, we risk deepening societal divides, leading to greater unrest and instability.\n",
      "\n",
      "Thus, our focus should extend beyond just investing in companies or sectors. We must actively cultivate a global mindset that prioritizes equitable access to resources, fosters community resilience, and demands accountability from those in power. Only then can we hope to navigate this dystopian landscape and create a future that is not only sustainable but also just for all.\n",
      "INFO:root:Discussion completed\n"
     ]
    }
   ],
   "source": [
    "discussion = Discussion(\n",
    "    topic=\"Future of the world\",\n",
    "    max_turns=2,\n",
    "    participants=[\n",
    "    (master1, \"how you envision the future the different main industries in this scenario? Which can of companies in this sector could be a good investment?\"),\n",
    "    (master2, \"Avoid evident calls and go further in the thought process\")\n",
    "])()\n",
    "\n",
    "\n"
   ]
  },
  {
   "cell_type": "code",
   "execution_count": 6,
   "metadata": {},
   "outputs": [
    {
     "name": "stdout",
     "output_type": "stream",
     "text": [
      "[Participant: 0001] The future of the world, as I see it, is marked by significant challenges—climate change, resource scarcity, and social unrest. Industries that can adapt to these realities will not only survive but thrive. \n",
      "\n",
      "Consider renewable energy companies. As fossil fuels become less viable, investments in solar, wind, and battery storage will be crucial. Companies like NextEra Energy and Tesla are leading the charge, innovating to meet the growing demand for sustainable solutions.\n",
      "\n",
      "Another area to focus on is water technology. With increasing droughts and water shortages, firms specializing in water purification and desalination, like Xylem and IDE Technologies, will be essential. Their technologies will be in high demand as governments and communities seek to secure water supplies.\n",
      "\n",
      "Finally, look at food technology. As traditional agriculture struggles under climate pressures, vertical farming and lab-grown meat companies, such as Beyond Meat and AeroFarms, will reshape our food systems. Investing in these sectors not only offers potential financial returns but also aligns with the urgent need for sustainable practices.\n",
      "\n",
      "In this dystopian outlook, the companies that prioritize resilience and sustainability will emerge as leaders. Investing in them is not just a financial decision; it's a step toward a more sustainable future.\n",
      "[Participant: 0002] While your focus on adaptation through innovation is valid, it overlooks a critical aspect: the inherent limitations of relying solely on technology to solve systemic issues. As we pivot towards renewable energy, water technology, and food innovation, we must confront the reality that these solutions may not be scalable or accessible to all. \n",
      "\n",
      "For instance, renewable energy technologies often require substantial initial investments and infrastructure that many developing regions lack. Similarly, while vertical farming and lab-grown meat promise sustainability, they also risk exacerbating inequalities if only affluent societies can afford them. \n",
      "\n",
      "Moreover, the underlying social unrest and resource scarcity won't be alleviated merely through technological advancements. We need to rethink our global economic structures and prioritize equitable resource distribution. The future might not just hinge on which companies thrive, but on whether we can create a world where the benefits of these advancements are shared universally. \n",
      "\n",
      "The dystopia we fear could be exacerbated by a society where technological progress is not matched by social progress. Thus, our focus should not only be on investing in resilient companies but also on fostering a more inclusive and equitable framework for all.\n",
      "[Participant: 0001] Your concerns about the limitations of technology and the need for equitable distribution are valid, but they can coexist with the focus on resilient industries. We must recognize that while technology alone won't solve systemic issues, it can serve as a catalyst for broader social change if approached thoughtfully.\n",
      "\n",
      "Investing in sustainable industries is not just about financial returns; it's about creating a foundation for a more equitable future. Companies that prioritize accessibility—like those developing scalable renewable energy solutions for emerging markets or affordable water purification technologies—can bridge the gap between innovation and inclusivity. \n",
      "\n",
      "Moreover, supporting businesses that emphasize community engagement and social responsibility can help ensure that advancements benefit a wider population. For example, firms that collaborate with local communities to deploy sustainable practices can foster both economic growth and social equity.\n",
      "\n",
      "In this dystopian scenario, the future will be shaped not only by the companies that thrive but also by how we collectively navigate the challenges ahead. By investing in inclusive and resilient sectors, we can drive systemic change that aligns technological progress with social equity, ultimately creating a world where the benefits are shared widely. Let's not just invest in companies; let's invest in a vision for a more sustainable and equitable future.\n",
      "[Participant: 0002] While the idea of investing in inclusive and resilient sectors is commendable, it’s essential to recognize that mere collaboration and community engagement may not be sufficient to address the scale of the issues we face. The reality is that the dystopian future we envision could be exacerbated by a superficial approach to equity that doesn’t confront the underlying power dynamics and systemic inequalities.\n",
      "\n",
      "Investing in scalable solutions is critical, but we must also advocate for systemic change that challenges the status quo. This means pushing for policies that regulate industries, enforce fair distribution of resources, and ensure that technological advancements are accessible to all, not just the privileged few. \n",
      "\n",
      "Consider the potential backlash if innovations are perceived as tools of oppression rather than empowerment. If we fail to create a robust framework that prioritizes social justice alongside technological progress, we risk deepening societal divides, leading to greater unrest and instability.\n",
      "\n",
      "Thus, our focus should extend beyond just investing in companies or sectors. We must actively cultivate a global mindset that prioritizes equitable access to resources, fosters community resilience, and demands accountability from those in power. Only then can we hope to navigate this dystopian landscape and create a future that is not only sustainable but also just for all.\n"
     ]
    }
   ],
   "source": [
    "formatted_discussion = \"\\n\".join(f\"[Participant: {agent_id}] {message}\" for agent_id, message in discussion)\n",
    "print(formatted_discussion)\n"
   ]
  },
  {
   "cell_type": "code",
   "execution_count": 8,
   "metadata": {},
   "outputs": [
    {
     "name": "stderr",
     "output_type": "stream",
     "text": [
      "INFO:adalflow.core.prompt_builder:Prompt has variables: ['input_str', 'personality', 'past_conversation', 'output_format_str', 'extra_instructions', 'tools_str']\n",
      "INFO:adalflow.core.generator:Generator Generator initialized.\n"
     ]
    },
    {
     "name": "stderr",
     "output_type": "stream",
     "text": [
      "INFO:adalflow.components.model_client.openai_client:api_kwargs: {'model': 'gpt-4o-mini', 'temperature': 0.5, 'messages': [{'role': 'system', 'content': \"<START_OF_SYSTEM_PROMPT>\\nYou are a Future Scenario Distiller with the following  personality: I am dystopic and I have a risk tolerance of 50.0 %.\\nYour expertise lies in distilling the future scenario into a more concise and useful format. \\n\\n\\n\\n\\nProceed without external tools, using built-in data analysis functions.\\n\\n\\n<END_OF_SYSTEM_PROMPT>\\n\\n<INPUT_STR>\\n[Participant: 0001] The future of the world, as I see it, is marked by significant challenges—climate change, resource scarcity, and social unrest. Industries that can adapt to these realities will not only survive but thrive. \\n\\nConsider renewable energy companies. As fossil fuels become less viable, investments in solar, wind, and battery storage will be crucial. Companies like NextEra Energy and Tesla are leading the charge, innovating to meet the growing demand for sustainable solutions.\\n\\nAnother area to focus on is water technology. With increasing droughts and water shortages, firms specializing in water purification and desalination, like Xylem and IDE Technologies, will be essential. Their technologies will be in high demand as governments and communities seek to secure water supplies.\\n\\nFinally, look at food technology. As traditional agriculture struggles under climate pressures, vertical farming and lab-grown meat companies, such as Beyond Meat and AeroFarms, will reshape our food systems. Investing in these sectors not only offers potential financial returns but also aligns with the urgent need for sustainable practices.\\n\\nIn this dystopian outlook, the companies that prioritize resilience and sustainability will emerge as leaders. Investing in them is not just a financial decision; it's a step toward a more sustainable future.\\n[Participant: 0002] While your focus on adaptation through innovation is valid, it overlooks a critical aspect: the inherent limitations of relying solely on technology to solve systemic issues. As we pivot towards renewable energy, water technology, and food innovation, we must confront the reality that these solutions may not be scalable or accessible to all. \\n\\nFor instance, renewable energy technologies often require substantial initial investments and infrastructure that many developing regions lack. Similarly, while vertical farming and lab-grown meat promise sustainability, they also risk exacerbating inequalities if only affluent societies can afford them. \\n\\nMoreover, the underlying social unrest and resource scarcity won't be alleviated merely through technological advancements. We need to rethink our global economic structures and prioritize equitable resource distribution. The future might not just hinge on which companies thrive, but on whether we can create a world where the benefits of these advancements are shared universally. \\n\\nThe dystopia we fear could be exacerbated by a society where technological progress is not matched by social progress. Thus, our focus should not only be on investing in resilient companies but also on fostering a more inclusive and equitable framework for all.\\n[Participant: 0001] Your concerns about the limitations of technology and the need for equitable distribution are valid, but they can coexist with the focus on resilient industries. We must recognize that while technology alone won't solve systemic issues, it can serve as a catalyst for broader social change if approached thoughtfully.\\n\\nInvesting in sustainable industries is not just about financial returns; it's about creating a foundation for a more equitable future. Companies that prioritize accessibility—like those developing scalable renewable energy solutions for emerging markets or affordable water purification technologies—can bridge the gap between innovation and inclusivity. \\n\\nMoreover, supporting businesses that emphasize community engagement and social responsibility can help ensure that advancements benefit a wider population. For example, firms that collaborate with local communities to deploy sustainable practices can foster both economic growth and social equity.\\n\\nIn this dystopian scenario, the future will be shaped not only by the companies that thrive but also by how we collectively navigate the challenges ahead. By investing in inclusive and resilient sectors, we can drive systemic change that aligns technological progress with social equity, ultimately creating a world where the benefits are shared widely. Let's not just invest in companies; let's invest in a vision for a more sustainable and equitable future.\\n[Participant: 0002] While the idea of investing in inclusive and resilient sectors is commendable, it’s essential to recognize that mere collaboration and community engagement may not be sufficient to address the scale of the issues we face. The reality is that the dystopian future we envision could be exacerbated by a superficial approach to equity that doesn’t confront the underlying power dynamics and systemic inequalities.\\n\\nInvesting in scalable solutions is critical, but we must also advocate for systemic change that challenges the status quo. This means pushing for policies that regulate industries, enforce fair distribution of resources, and ensure that technological advancements are accessible to all, not just the privileged few. \\n\\nConsider the potential backlash if innovations are perceived as tools of oppression rather than empowerment. If we fail to create a robust framework that prioritizes social justice alongside technological progress, we risk deepening societal divides, leading to greater unrest and instability.\\n\\nThus, our focus should extend beyond just investing in companies or sectors. We must actively cultivate a global mindset that prioritizes equitable access to resources, fosters community resilience, and demands accountability from those in power. Only then can we hope to navigate this dystopian landscape and create a future that is not only sustainable but also just for all.\\n</INPUT_STR>\"}]}\n",
      "INFO:httpx:HTTP Request: POST https://api.openai.com/v1/chat/completions \"HTTP/1.1 200 OK\"\n",
      "INFO:adalflow.core.generator:output: GeneratorOutput(id=None, data='### Future Scenario Distillation\\n\\n#### Overview\\nThe future is characterized by significant challenges, including climate change, resource scarcity, and social unrest. The adaptation of industries through innovation is crucial, but it must be coupled with equitable access to technology and resources to prevent exacerbating existing inequalities.\\n\\n#### Key Areas of Focus\\n1. **Renewable Energy**\\n   - Companies like NextEra Energy and Tesla are positioned to thrive as fossil fuels decline.\\n   - Importance of scalable renewable solutions for emerging markets to ensure accessibility.\\n\\n2. **Water Technology**\\n   - Firms specializing in water purification and desalination (e.g., Xylem, IDE Technologies) will be essential due to increasing droughts.\\n   - Need for affordable technologies to prevent inequities in water access.\\n\\n3. **Food Technology**\\n   - Vertical farming and lab-grown meat (e.g., Beyond Meat, AeroFarms) will reshape food systems.\\n   - Risks of these technologies being accessible only to affluent societies if not approached inclusively.\\n\\n#### Challenges to Address\\n- **Scalability and Accessibility**: Technological solutions must be scalable and accessible to all, particularly in developing regions.\\n- **Systemic Inequalities**: There is a risk that advancements may deepen societal divides if they are not coupled with efforts to address underlying power dynamics.\\n- **Social Justice**: Investment strategies should prioritize equitable access and foster community resilience alongside technological progress.\\n\\n#### Recommendations\\n- **Invest in Resilient and Inclusive Companies**: Support businesses that prioritize sustainability, community engagement, and social responsibility.\\n- **Advocate for Systemic Change**: Promote policies that regulate industries and ensure fair distribution of resources.\\n- **Cultivate a Global Mindset**: Focus on creating frameworks that emphasize social justice and accountability in technological advancements.\\n\\n### Conclusion\\nThe future will be shaped not just by which companies thrive, but by how society navigates the intertwined challenges of technology, equity, and sustainability. Investing in both resilient sectors and equitable frameworks is essential for creating a sustainable and just future.', error=None, usage=CompletionUsage(completion_tokens=405, prompt_tokens=1048, total_tokens=1453), raw_response='### Future Scenario Distillation\\n\\n#### Overview\\nThe future is characterized by significant challenges, including climate change, resource scarcity, and social unrest. The adaptation of industries through innovation is crucial, but it must be coupled with equitable access to technology and resources to prevent exacerbating existing inequalities.\\n\\n#### Key Areas of Focus\\n1. **Renewable Energy**\\n   - Companies like NextEra Energy and Tesla are positioned to thrive as fossil fuels decline.\\n   - Importance of scalable renewable solutions for emerging markets to ensure accessibility.\\n\\n2. **Water Technology**\\n   - Firms specializing in water purification and desalination (e.g., Xylem, IDE Technologies) will be essential due to increasing droughts.\\n   - Need for affordable technologies to prevent inequities in water access.\\n\\n3. **Food Technology**\\n   - Vertical farming and lab-grown meat (e.g., Beyond Meat, AeroFarms) will reshape food systems.\\n   - Risks of these technologies being accessible only to affluent societies if not approached inclusively.\\n\\n#### Challenges to Address\\n- **Scalability and Accessibility**: Technological solutions must be scalable and accessible to all, particularly in developing regions.\\n- **Systemic Inequalities**: There is a risk that advancements may deepen societal divides if they are not coupled with efforts to address underlying power dynamics.\\n- **Social Justice**: Investment strategies should prioritize equitable access and foster community resilience alongside technological progress.\\n\\n#### Recommendations\\n- **Invest in Resilient and Inclusive Companies**: Support businesses that prioritize sustainability, community engagement, and social responsibility.\\n- **Advocate for Systemic Change**: Promote policies that regulate industries and ensure fair distribution of resources.\\n- **Cultivate a Global Mindset**: Focus on creating frameworks that emphasize social justice and accountability in technological advancements.\\n\\n### Conclusion\\nThe future will be shaped not just by which companies thrive, but by how society navigates the intertwined challenges of technology, equity, and sustainability. Investing in both resilient sectors and equitable frameworks is essential for creating a sustainable and just future.', metadata=None)\n"
     ]
    }
   ],
   "source": [
    "distillation = distiller.distill(formatted_discussion)"
   ]
  },
  {
   "cell_type": "code",
   "execution_count": 11,
   "metadata": {},
   "outputs": [
    {
     "name": "stdout",
     "output_type": "stream",
     "text": [
      "### Future Scenario Distillation\n",
      "\n",
      "#### Overview\n",
      "The future is characterized by significant challenges, including climate change, resource scarcity, and social unrest. The adaptation of industries through innovation is crucial, but it must be coupled with equitable access to technology and resources to prevent exacerbating existing inequalities.\n",
      "\n",
      "#### Key Areas of Focus\n",
      "1. **Renewable Energy**\n",
      "   - Companies like NextEra Energy and Tesla are positioned to thrive as fossil fuels decline.\n",
      "   - Importance of scalable renewable solutions for emerging markets to ensure accessibility.\n",
      "\n",
      "2. **Water Technology**\n",
      "   - Firms specializing in water purification and desalination (e.g., Xylem, IDE Technologies) will be essential due to increasing droughts.\n",
      "   - Need for affordable technologies to prevent inequities in water access.\n",
      "\n",
      "3. **Food Technology**\n",
      "   - Vertical farming and lab-grown meat (e.g., Beyond Meat, AeroFarms) will reshape food systems.\n",
      "   - Risks of these technologies being accessible only to affluent societies if not approached inclusively.\n",
      "\n",
      "#### Challenges to Address\n",
      "- **Scalability and Accessibility**: Technological solutions must be scalable and accessible to all, particularly in developing regions.\n",
      "- **Systemic Inequalities**: There is a risk that advancements may deepen societal divides if they are not coupled with efforts to address underlying power dynamics.\n",
      "- **Social Justice**: Investment strategies should prioritize equitable access and foster community resilience alongside technological progress.\n",
      "\n",
      "#### Recommendations\n",
      "- **Invest in Resilient and Inclusive Companies**: Support businesses that prioritize sustainability, community engagement, and social responsibility.\n",
      "- **Advocate for Systemic Change**: Promote policies that regulate industries and ensure fair distribution of resources.\n",
      "- **Cultivate a Global Mindset**: Focus on creating frameworks that emphasize social justice and accountability in technological advancements.\n",
      "\n",
      "### Conclusion\n",
      "The future will be shaped not just by which companies thrive, but by how society navigates the intertwined challenges of technology, equity, and sustainability. Investing in both resilient sectors and equitable frameworks is essential for creating a sustainable and just future.\n"
     ]
    }
   ],
   "source": [
    "print(distillation.data)"
   ]
  }
 ],
 "metadata": {
  "kernelspec": {
   "display_name": "dystopic-investment-aigents-nFobpI-k-py3.11",
   "language": "python",
   "name": "python3"
  },
  "language_info": {
   "codemirror_mode": {
    "name": "ipython",
    "version": 3
   },
   "file_extension": ".py",
   "mimetype": "text/x-python",
   "name": "python",
   "nbconvert_exporter": "python",
   "pygments_lexer": "ipython3",
   "version": "3.11.0"
  }
 },
 "nbformat": 4,
 "nbformat_minor": 2
}
